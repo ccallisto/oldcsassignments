{
  "cells": [
    {
      "cell_type": "markdown",
      "metadata": {
        "id": "0RBi4kMc6QUb"
      },
      "source": [
        "# Exercise 1\n",
        "Given a list of numbers, given a target, find two indices where values at these two locations add up to the given target. To avoid having to check trivial cases, it is safe to assume that there is one and exactly one result per given list and we can reuse the same value twice.\n",
        "\n",
        "**Example:**<br/>\n",
        "a = [1, 2, 3, 4, 5], target = 8 should return [2, 4]<br/>\n",
        "a = [1, 2], target = 3 should return [0, 1]<br/>\n",
        "a = [1, 19, 20, 22, 77, 15, 24, 15, 14], target = 33 should [1, 8]<br/>\n"
      ]
    },
    {
      "cell_type": "code",
      "execution_count": 2,
      "metadata": {
        "id": "ax6YTI5W-8Gs"
      },
      "outputs": [],
      "source": [
        "def find_indices(a, t):\n",
        "  '''\n",
        "  Given a list of integers, find two indices where values at that locations add up to a target.\n",
        "  Input:\n",
        "    a: list of integers\n",
        "    t: the target (integer)\n",
        "  Return:\n",
        "    two indices that values at those locations add up to t\n",
        "  '''\n",
        "  # 1. for each index i1 in the range of list length\n",
        "  # 1.1. take its value e1\n",
        "  # 1.2. for each index i2 in the range of list length\n",
        "  # 1.2.1 take its value e2\n",
        "  # 1.2.2 if e1 + e2 == t return [i1, i2]\n",
        "  # CODE_HERE\n",
        "  for i in range(len(a)):\n",
        "    e= a[i]\n",
        "    for j in range(len(a)):\n",
        "      f = a[j]\n",
        "      if e + f == t:\n",
        "        return [i, j]\n",
        "        \n"
      ]
    },
    {
      "cell_type": "code",
      "execution_count": 3,
      "metadata": {
        "id": "3ixTFie537y4"
      },
      "outputs": [],
      "source": [
        "# A function to perform test cases\n",
        "def test(func, a, t, r, verbose=True):\n",
        "  try:\n",
        "    assert func(a, t) == r\n",
        "    if verbose:\n",
        "      print(\"Passed\")\n",
        "  except:\n",
        "    if verbose:\n",
        "      print(\"Failed\")"
      ]
    },
    {
      "cell_type": "code",
      "execution_count": 4,
      "metadata": {
        "colab": {
          "base_uri": "https://localhost:8080/"
        },
        "id": "XsNV_Q5O-vFa",
        "outputId": "a664f4ef-e4d0-4e1d-a8a5-ee5fdf688be3"
      },
      "outputs": [
        {
          "name": "stdout",
          "output_type": "stream",
          "text": [
            "Passed\n"
          ]
        }
      ],
      "source": [
        "# Test case 1 (5 points)\n",
        "test(find_indices, [1, 2, 3, 4, 5], 9, [3, 4])"
      ]
    },
    {
      "cell_type": "code",
      "execution_count": 5,
      "metadata": {
        "colab": {
          "base_uri": "https://localhost:8080/"
        },
        "id": "ao3mob_1ric6",
        "outputId": "998ca90d-8616-458e-9507-a60d8e567b83"
      },
      "outputs": [
        {
          "name": "stdout",
          "output_type": "stream",
          "text": [
            "Passed\n"
          ]
        }
      ],
      "source": [
        "# Test case 2 (5 points)\n",
        "test(find_indices, [1, 2], 3, [0, 1])"
      ]
    },
    {
      "cell_type": "code",
      "execution_count": 6,
      "metadata": {
        "colab": {
          "base_uri": "https://localhost:8080/"
        },
        "id": "ONGmfDpcrr3q",
        "outputId": "c7ec2e14-a645-4b26-e497-4f90e5084ead"
      },
      "outputs": [
        {
          "name": "stdout",
          "output_type": "stream",
          "text": [
            "Passed\n"
          ]
        }
      ],
      "source": [
        "# Test case 3 (5 points)\n",
        "test(find_indices, [1, 19, 20, 22, 77, 15, 24, 15, 14], 33, [1, 8])"
      ]
    },
    {
      "cell_type": "code",
      "execution_count": 7,
      "metadata": {
        "colab": {
          "base_uri": "https://localhost:8080/"
        },
        "id": "auuR3s8fr0qj",
        "outputId": "b291ba88-b073-476c-e685-ed9ed369b428"
      },
      "outputs": [
        {
          "name": "stdout",
          "output_type": "stream",
          "text": [
            "Passed\n"
          ]
        }
      ],
      "source": [
        "# Test case 4 (5 points)\n",
        "a = [x for x in range(10000)]\n",
        "t = 9998 + 9999\n",
        "r = [9998, 9999]\n",
        "test(find_indices, a, t, r)"
      ]
    },
    {
      "cell_type": "markdown",
      "metadata": {
        "id": "YBmMBNHhue17"
      },
      "source": [
        "## \"Wall clock\" counting for Exercise 1\n",
        "You can use these two code cells to have a sense (just a sense of) how the time changes compare to the input change"
      ]
    },
    {
      "cell_type": "code",
      "execution_count": 8,
      "metadata": {
        "colab": {
          "base_uri": "https://localhost:8080/"
        },
        "id": "-rbdkzoDsYg1",
        "outputId": "cc14b9e5-6b4f-4492-f882-cfc98a131177"
      },
      "outputs": [
        {
          "name": "stdout",
          "output_type": "stream",
          "text": [
            "437 µs ± 7.55 µs per loop (mean ± std. dev. of 7 runs, 1,000 loops each)\n"
          ]
        }
      ],
      "source": [
        "%%timeit\n",
        "# Test case 5 (5 points)\n",
        "a = [x for x in range(100)]\n",
        "t = 98 + 99\n",
        "r = [98, 99]\n",
        "test(find_indices, a, t, r, False)"
      ]
    },
    {
      "cell_type": "code",
      "execution_count": 9,
      "metadata": {
        "colab": {
          "base_uri": "https://localhost:8080/"
        },
        "id": "anLaAWw6urmQ",
        "outputId": "5a7f908b-8fc5-4ae4-87c8-992774d0729a"
      },
      "outputs": [
        {
          "name": "stdout",
          "output_type": "stream",
          "text": [
            "55.4 ms ± 1.25 ms per loop (mean ± std. dev. of 7 runs, 10 loops each)\n"
          ]
        }
      ],
      "source": [
        "%%timeit\n",
        "# Test case 6 (5 points)\n",
        "a = [x for x in range(1000)]\n",
        "t = 998 + 999\n",
        "r = [998, 999]\n",
        "test(find_indices, a, t, r, False)"
      ]
    },
    {
      "cell_type": "markdown",
      "metadata": {
        "id": "YmWJDsrXsTm9"
      },
      "source": [
        "## Reflection on Exercise 1\n",
        "Please answers the following questions (by typing the answer) in the following code cell.\n",
        "- from 100 values to 1000, what is the rate (ratio, order of growth) of input size change?\n",
        "- from your execution, what is the rate (ratio, order of groth) of the execution time. Instruction: Take the time displayed, convert to the same unit, do the division and print the rate.\n",
        "\n",
        "\n",
        "What is the time complexity O(?) of this implementation. Please print your answer as either one of the following\n",
        "- \"constant\" (if it is O(1))\n",
        "- \"logarithmic\" (if it is O(logn))\n",
        "- \"linear\" (if it is O(n))\n",
        "- \"log linear\" if it is O(nlogn)\n",
        "- \"quadratic\" if it is O(n^2)\n",
        "- \"exponential\" if it is O(2^n)"
      ]
    },
    {
      "cell_type": "code",
      "execution_count": 10,
      "metadata": {
        "colab": {
          "base_uri": "https://localhost:8080/"
        },
        "id": "vBYHzqpGtjGV",
        "outputId": "a0ae2616-b4bd-4de4-f188-67c96a937a92"
      },
      "outputs": [
        {
          "name": "stdout",
          "output_type": "stream",
          "text": [
            "Rate of input change: 10\n",
            "Rate of time change: 100\n",
            "Big O: quadratic\n"
          ]
        }
      ],
      "source": [
        "# print the rate of input change (5 points)\n",
        "# print the rate of time change (5 points)\n",
        "# print the Big O (10 points)\n",
        "# CODE_HERE\n",
        "input_rate = 10\n",
        "time = input_rate**2\n",
        "\n",
        "o = \"quadratic\"\n",
        "\n",
        "print(\"Rate of input change:\", input_rate)\n",
        "print(\"Rate of time change:\", time)\n",
        "print(\"Big O:\", o)\n"
      ]
    },
    {
      "cell_type": "markdown",
      "metadata": {
        "id": "MnErQHVMttBT"
      },
      "source": [
        "# Exercise 2\n",
        "Same case as in Exercise 1, however, a dictionary to store values to find after passing each element (trade-off between memory and time).\n",
        "\n",
        "Please follow the comments and specifications to code this approach."
      ]
    },
    {
      "cell_type": "code",
      "execution_count": 11,
      "metadata": {
        "id": "pVgU3hqtt9ny"
      },
      "outputs": [],
      "source": [
        "def find_indices_dict(a, t):\n",
        "  '''\n",
        "  Given a list of integers, find two indices where values at that locations add up to a target.\n",
        "  Input:\n",
        "    a: list of integers\n",
        "    t: the target (integer)\n",
        "  Return:\n",
        "    two indices that values at those locations add up to t\n",
        "  '''\n",
        "  # 1. create an empty dictionary called to_find\n",
        "  # 2. for each index i in the range of the length of the list a\n",
        "  # 2.1. get the element value\n",
        "  # 2.2. add a key as the value to be found that when add with this current value e makes the target (i.e., t = e + key, so key = t - e) and the value is this current index (Hint: to_find[t-e] = i)\n",
        "  #      Note: adding the key here assures that the element can add with itself (which is allowable from the exercise assumption)\n",
        "  # 2.3. check if that element is in the dictionary (to_find)\n",
        "  # 2.3.1 If yes, return the array with value of to_find with key e and the current index (Hint: [to_find[e], i])\n",
        "  # This algorithm will surely return one result (because the assumption is to have one value)\n",
        "  # CODE_HERE\n",
        "  dict = {}\n",
        "\n",
        "  for i, num in enumerate(a):\n",
        "    complement = t- num\n",
        "    if complement in dict:\n",
        "      return [dict[complement], i]\n",
        "    \n",
        "    dict[num] = i"
      ]
    },
    {
      "cell_type": "code",
      "execution_count": 12,
      "metadata": {
        "colab": {
          "base_uri": "https://localhost:8080/"
        },
        "id": "dlc_tcVVx4Fn",
        "outputId": "cb6ee0f5-1f36-46d6-ceba-f7064d04ee8e"
      },
      "outputs": [
        {
          "name": "stdout",
          "output_type": "stream",
          "text": [
            "Passed\n"
          ]
        }
      ],
      "source": [
        "# Test case 1 (5 points)\n",
        "test(find_indices_dict, [1, 2, 3, 4, 5], 9, [3, 4])"
      ]
    },
    {
      "cell_type": "code",
      "execution_count": 13,
      "metadata": {
        "colab": {
          "base_uri": "https://localhost:8080/"
        },
        "id": "1l42X7wbx8re",
        "outputId": "8558cbb7-307d-4b4f-8636-2a6e3c5aa954"
      },
      "outputs": [
        {
          "name": "stdout",
          "output_type": "stream",
          "text": [
            "Passed\n"
          ]
        }
      ],
      "source": [
        "# Test case 2 (3 points)\n",
        "test(find_indices_dict, [1, 2], 3, [0, 1])"
      ]
    },
    {
      "cell_type": "code",
      "execution_count": 14,
      "metadata": {
        "colab": {
          "base_uri": "https://localhost:8080/"
        },
        "id": "GpkEHAWAx_KF",
        "outputId": "1c7aa5a2-1044-4fb1-a8de-c075c5cd6ea0"
      },
      "outputs": [
        {
          "name": "stdout",
          "output_type": "stream",
          "text": [
            "Passed\n"
          ]
        }
      ],
      "source": [
        "# Test case 3 (5 points)\n",
        "test(find_indices_dict, [1, 19, 20, 22, 77, 15, 24, 15, 14], 33, [1, 8])"
      ]
    },
    {
      "cell_type": "code",
      "execution_count": 15,
      "metadata": {
        "colab": {
          "base_uri": "https://localhost:8080/"
        },
        "id": "qZa5WyV7yBPs",
        "outputId": "96eaba16-b98c-46eb-f591-b41f2dbb9a6c"
      },
      "outputs": [
        {
          "name": "stdout",
          "output_type": "stream",
          "text": [
            "Passed\n"
          ]
        }
      ],
      "source": [
        "# Test case 4 (5 points)\n",
        "a = [x for x in range(10000)]\n",
        "t = 9998 + 9999\n",
        "r = [9998, 9999]\n",
        "test(find_indices_dict, a, t, r)"
      ]
    },
    {
      "cell_type": "markdown",
      "metadata": {
        "id": "8FUeuGtLzlBS"
      },
      "source": [
        "# \"Wall clock\" counting for Exercise 2\n",
        "You can use these two code cells to have a sense (just a sense of) how the time changes compare to the input change"
      ]
    },
    {
      "cell_type": "code",
      "execution_count": 16,
      "metadata": {
        "colab": {
          "base_uri": "https://localhost:8080/"
        },
        "id": "gv3PkTHByEEN",
        "outputId": "5859942d-3437-44fd-efb9-a6d81680df36"
      },
      "outputs": [
        {
          "name": "stdout",
          "output_type": "stream",
          "text": [
            "12.3 µs ± 233 ns per loop (mean ± std. dev. of 7 runs, 100,000 loops each)\n"
          ]
        }
      ],
      "source": [
        "%%timeit\n",
        "# test case 5 (5 points)\n",
        "a = [x for x in range(100)]\n",
        "t = 98 + 99\n",
        "r = [98, 99]\n",
        "test(find_indices_dict, a, t, r, False)"
      ]
    },
    {
      "cell_type": "code",
      "execution_count": 17,
      "metadata": {
        "colab": {
          "base_uri": "https://localhost:8080/"
        },
        "id": "mFO9sFRzzptS",
        "outputId": "a7326b8e-29bf-4642-f9bb-a0e48069be2d"
      },
      "outputs": [
        {
          "name": "stdout",
          "output_type": "stream",
          "text": [
            "143 µs ± 2.25 µs per loop (mean ± std. dev. of 7 runs, 10,000 loops each)\n"
          ]
        }
      ],
      "source": [
        "%%timeit\n",
        "# test case 6 (5 points)\n",
        "a = [x for x in range(1000)]\n",
        "t = 998 + 999\n",
        "r = [998, 999]\n",
        "test(find_indices_dict, a, t, r, False)"
      ]
    },
    {
      "cell_type": "markdown",
      "metadata": {
        "id": "83X4OJ-a1WNg"
      },
      "source": [
        "## Reflection on Exercise 2\n",
        "Please answers the following questions (by typing the answer) in the following code cell.\n",
        "- from 100 values to 1000, what is the rate (ratio, order of growth) of input size change?\n",
        "- from your execution, what is the rate (ratio, order of groth) of the execution time. Instruction: Take the time displayed, convert to the same unit, do the division and print the rate.\n",
        "\n",
        "\n",
        "What is the time complexity O(?) of this implementation. Please print your answer as either one of the following\n",
        "- \"constant\" (if it is O(1))\n",
        "- \"logarithmic\" (if it is O(logn))\n",
        "- \"linear\" (if it is O(n))\n",
        "- \"log linear\" if it is O(nlogn)\n",
        "- \"quadratic\" if it is O(n^2)\n",
        "- \"exponential\" if it is O(2^n)"
      ]
    },
    {
      "cell_type": "code",
      "execution_count": 18,
      "metadata": {
        "colab": {
          "base_uri": "https://localhost:8080/"
        },
        "id": "RuTN7ZTgzwtA",
        "outputId": "dd8197af-dfc8-4658-c0d4-a3f58de0656e"
      },
      "outputs": [
        {
          "name": "stdout",
          "output_type": "stream",
          "text": [
            "Rate of input change: 10\n",
            "Rate of time change: 10\n",
            "Big O: linear\n"
          ]
        }
      ],
      "source": [
        "# print the rate of input change (5 points)\n",
        "# print the rate of time change (5 points)\n",
        "# print the Big O (10 points)\n",
        "# CODE_HERE\n",
        "input_rate = 10\n",
        "time = input_rate\n",
        "\n",
        "o = \"linear\"\n",
        "\n",
        "print(\"Rate of input change:\", input_rate)\n",
        "print(\"Rate of time change:\", time)\n",
        "print(\"Big O:\", o)\n"
      ]
    }
  ],
  "metadata": {
    "colab": {
      "collapsed_sections": [],
      "provenance": []
    },
    "kernelspec": {
      "display_name": "Python 3",
      "name": "python3"
    },
    "language_info": {
      "codemirror_mode": {
        "name": "ipython",
        "version": 3
      },
      "file_extension": ".py",
      "mimetype": "text/x-python",
      "name": "python",
      "nbconvert_exporter": "python",
      "pygments_lexer": "ipython3",
      "version": "3.11.5"
    }
  },
  "nbformat": 4,
  "nbformat_minor": 0
}
