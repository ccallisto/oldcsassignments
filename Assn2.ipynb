{
  "cells": [
    {
      "cell_type": "markdown",
      "metadata": {
        "id": "lw021kHiFBIc"
      },
      "source": [
        "# Assignment 2\n",
        "Each of the following exercises has 5 test cases. Each test case is worth 5 points. Note also that the TA has the right not to give or discount the grade even if the test cases are correct, but the implementation themselves are incorrect (e.g., one may fix the outputs to pass the test cases).\n",
        "\n",
        "## Excercise 1\n",
        "There is a multilevel marketing organization. In this organization, to assure quality, one person can have only one direct subordinate. Each person can get 20% out of his/her sales and 10% of his/her direct subordinate's income (note: the income, not the sale). Giving an input as an array of all the sales, please calculate the income for any given person. Assuming that the first one in the list doesn't have a subordinate and goes from left to right, the current person is the subordinate of the next one. Also, it is safe to assume that the company has at least one employee.\n",
        "\n",
        "For instance, if the input is given as sales = [100, 200, 300]. Then:\n",
        "- There are three people in this organization\n",
        "- The first one (at index 0) doesn't have a subordinate\n",
        "- The first one (at index 0) is the subordinate of the second one (at index 1)\n",
        "- The second one (at index 1) is the subordinate of the third one (at index 2)\n",
        "\n",
        "\n",
        "Please implement this using recursion by replacing <code>#CODE_HERE</code> placeholders.\n",
        "\n",
        "Here is the pseudo-code:\n",
        "- If i = 0 (base case) then return 20% of his/her sale only\n",
        "- Else return 20% of his/her sale + 10% of his/her subordinate's income (thus need to call to income calculation here recursively)"
      ]
    },
    {
      "cell_type": "code",
      "execution_count": 181,
      "metadata": {
        "id": "g_2p4UV3E-N2"
      },
      "outputs": [],
      "source": [
        "def calculate_income(a, i):\n",
        "  if i == 0:\n",
        "    return 0.20 * a[0]\n",
        " \n",
        "  else:\n",
        "    sub_income = .1 * calculate_income(a, i-1)\n",
        "    own_income = .20 * a[i]\n",
        "  total = own_income + sub_income\n",
        "\n",
        "  return total\n"
      ]
    },
    {
      "cell_type": "code",
      "execution_count": 182,
      "metadata": {
        "colab": {
          "base_uri": "https://localhost:8080/"
        },
        "id": "P5wz4AA5ULn3",
        "outputId": "f2be3f8c-1711-4613-9a2d-d410441f5dd7"
      },
      "outputs": [
        {
          "data": {
            "text/plain": [
              "20.0"
            ]
          },
          "execution_count": 182,
          "metadata": {},
          "output_type": "execute_result"
        }
      ],
      "source": [
        "# test 1\n",
        "a = [100]\n",
        "calculate_income(a, 0)"
      ]
    },
    {
      "cell_type": "code",
      "execution_count": 183,
      "metadata": {
        "colab": {
          "base_uri": "https://localhost:8080/"
        },
        "id": "qjx9CguQUWNZ",
        "outputId": "0be9744e-eb2e-4d70-dd6b-d15037980442"
      },
      "outputs": [
        {
          "data": {
            "text/plain": [
              "42.0"
            ]
          },
          "execution_count": 183,
          "metadata": {},
          "output_type": "execute_result"
        }
      ],
      "source": [
        "# test 2\n",
        "a = [100, 200]\n",
        "calculate_income(a, 1)"
      ]
    },
    {
      "cell_type": "code",
      "execution_count": 184,
      "metadata": {
        "colab": {
          "base_uri": "https://localhost:8080/"
        },
        "id": "QuZjbwsXIGIG",
        "outputId": "4cad274e-9bb8-4f27-eef6-7f8ea827aefb"
      },
      "outputs": [
        {
          "data": {
            "text/plain": [
              "20.0"
            ]
          },
          "execution_count": 184,
          "metadata": {},
          "output_type": "execute_result"
        }
      ],
      "source": [
        "# test 3\n",
        "a = [100, 200, 300]\n",
        "calculate_income(a, 0)"
      ]
    },
    {
      "cell_type": "code",
      "execution_count": 185,
      "metadata": {
        "colab": {
          "base_uri": "https://localhost:8080/"
        },
        "id": "SAvHvCV0IZoz",
        "outputId": "b443736b-38c3-4131-fa78-0fa0217204b4"
      },
      "outputs": [
        {
          "data": {
            "text/plain": [
              "42.0"
            ]
          },
          "execution_count": 185,
          "metadata": {},
          "output_type": "execute_result"
        }
      ],
      "source": [
        "# test 4\n",
        "a = [100, 200, 300]\n",
        "calculate_income(a, 1)"
      ]
    },
    {
      "cell_type": "code",
      "execution_count": 186,
      "metadata": {
        "colab": {
          "base_uri": "https://localhost:8080/"
        },
        "id": "5UtpWgfuIeJS",
        "outputId": "6f3a14c6-5486-4bcb-a136-70aca9c0aaca"
      },
      "outputs": [
        {
          "data": {
            "text/plain": [
              "64.2"
            ]
          },
          "execution_count": 186,
          "metadata": {},
          "output_type": "execute_result"
        }
      ],
      "source": [
        "# test 5\n",
        "a = [100, 200, 300]\n",
        "calculate_income(a, 2)"
      ]
    },
    {
      "cell_type": "markdown",
      "metadata": {
        "id": "Wb6ChSgAMB5R"
      },
      "source": [
        "## Exercise 2\n",
        "We can implement this problem using the memoization approach. Please replace the <code>#CODE_HERE</code> place holder to complete this.\n",
        "\n",
        "Hint: The code logic for <code>#CODE_HERE</code> is similar to the pseudo-code listed above. However, instead of returning, we will assign it to a variable called <code>ret</code> then assign <code>ret</code> to <code>mem[i]</code> and return <code>mem[i]</code>."
      ]
    },
    {
      "cell_type": "code",
      "execution_count": 187,
      "metadata": {
        "id": "7OGm1_-0MA8l"
      },
      "outputs": [],
      "source": [
        "def calculate_income_mem(a, i, mem):\n",
        "  if i not in mem:\n",
        "    \n",
        "    if i == 0:\n",
        "      ret = 0.2 * a[0]\n",
        "    else:\n",
        "      sub_income = calculate_income_mem(a, i - 1, mem)\n",
        "      ret = 0.2 * a[i] + 0.1 * sub_income\n",
        "    \n",
        "  mem[i] = ret\n",
        "\n",
        "  return mem[i]"
      ]
    },
    {
      "cell_type": "code",
      "execution_count": 188,
      "metadata": {
        "colab": {
          "base_uri": "https://localhost:8080/"
        },
        "id": "cbRQLfw0Ufz1",
        "outputId": "80ccff3b-d8c4-4b56-94dd-3f621a803e84"
      },
      "outputs": [
        {
          "data": {
            "text/plain": [
              "20.0"
            ]
          },
          "execution_count": 188,
          "metadata": {},
          "output_type": "execute_result"
        }
      ],
      "source": [
        "# test 1\n",
        "a = [100]\n",
        "calculate_income_mem(a, 0, {})"
      ]
    },
    {
      "cell_type": "code",
      "execution_count": 189,
      "metadata": {
        "colab": {
          "base_uri": "https://localhost:8080/"
        },
        "id": "wBJCiFqDUnPw",
        "outputId": "7e52f8fa-61c2-48b9-e79c-d4d4afc195bf"
      },
      "outputs": [
        {
          "data": {
            "text/plain": [
              "42.0"
            ]
          },
          "execution_count": 189,
          "metadata": {},
          "output_type": "execute_result"
        }
      ],
      "source": [
        "# test 2\n",
        "a = [100, 200]\n",
        "calculate_income_mem(a, 1, {})"
      ]
    },
    {
      "cell_type": "code",
      "execution_count": 190,
      "metadata": {
        "colab": {
          "base_uri": "https://localhost:8080/"
        },
        "id": "_B-bsCdaOPv5",
        "outputId": "7ab4bdd5-1bf0-4363-cb70-48a0318cde63"
      },
      "outputs": [
        {
          "data": {
            "text/plain": [
              "20.0"
            ]
          },
          "execution_count": 190,
          "metadata": {},
          "output_type": "execute_result"
        }
      ],
      "source": [
        "# test 3\n",
        "a = [100, 200, 300]\n",
        "calculate_income_mem(a, 0, {})"
      ]
    },
    {
      "cell_type": "code",
      "execution_count": 191,
      "metadata": {
        "colab": {
          "base_uri": "https://localhost:8080/"
        },
        "id": "glT9ymM2OS25",
        "outputId": "fa060256-3deb-4793-8aab-0b2d68c77731"
      },
      "outputs": [
        {
          "data": {
            "text/plain": [
              "42.0"
            ]
          },
          "execution_count": 191,
          "metadata": {},
          "output_type": "execute_result"
        }
      ],
      "source": [
        "# test 4\n",
        "a = [100, 200, 300]\n",
        "calculate_income_mem(a, 1, {})"
      ]
    },
    {
      "cell_type": "code",
      "execution_count": 192,
      "metadata": {
        "colab": {
          "base_uri": "https://localhost:8080/"
        },
        "id": "E6kWrZeXOUrl",
        "outputId": "1e635fe0-4854-4bfb-d18d-c2f32979acb7"
      },
      "outputs": [
        {
          "data": {
            "text/plain": [
              "64.2"
            ]
          },
          "execution_count": 192,
          "metadata": {},
          "output_type": "execute_result"
        }
      ],
      "source": [
        "# test 5\n",
        "a = [100, 200, 300]\n",
        "calculate_income_mem(a, 2, {})"
      ]
    },
    {
      "cell_type": "markdown",
      "metadata": {
        "id": "lVM1elHNQgK8"
      },
      "source": [
        "## Checkout the time complexity of these two approaches"
      ]
    },
    {
      "cell_type": "code",
      "execution_count": 107,
      "metadata": {
        "colab": {
          "base_uri": "https://localhost:8080/"
        },
        "id": "XMghVOCSPvjY",
        "outputId": "ab132e5c-43be-45e7-93f3-bc40b59bbda9"
      },
      "outputs": [
        {
          "name": "stdout",
          "output_type": "stream",
          "text": [
            "1.34 µs ± 15.5 ns per loop (mean ± std. dev. of 7 runs, 1,000,000 loops each)\n"
          ]
        }
      ],
      "source": [
        "%%timeit\n",
        "a = [100, 200, 300, 400, 500, 600, 700, 800, 900, 1000, 1100, 1200]\n",
        "calculate_income(a, 11)"
      ]
    },
    {
      "cell_type": "code",
      "execution_count": 108,
      "metadata": {
        "colab": {
          "base_uri": "https://localhost:8080/"
        },
        "id": "LIJFwj3KP0AF",
        "outputId": "3b769f25-11ae-4d5b-d5c4-f1269aa07949"
      },
      "outputs": [
        {
          "name": "stdout",
          "output_type": "stream",
          "text": [
            "2.3 µs ± 26.7 ns per loop (mean ± std. dev. of 7 runs, 100,000 loops each)\n"
          ]
        }
      ],
      "source": [
        "%%timeit\n",
        "a = [100, 200, 300, 400, 500, 600, 700, 800, 900, 1000, 1100, 1200]\n",
        "calculate_income_mem(a, 11, {})"
      ]
    },
    {
      "cell_type": "markdown",
      "metadata": {
        "id": "L5xuXM-Ogi6k"
      },
      "source": [
        "## Reflection\n",
        "This part is not graded but is helpful for your knowledge.\n",
        "Which approach is faster and why?\n"
      ]
    },
    {
      "cell_type": "markdown",
      "metadata": {
        "id": "n_XZs2k8HlGN"
      },
      "source": [
        "## Exercise 3\n",
        "Now, the company has changed its income calculation rule to encourage recruiting more subordinates. Specifically, the income of one person will be 20% of his/her own sale plus 10% of the income of his/her direct subordinate (if there is) and 5% of the subordinate of his/her subordinate (sub-subordinate, if there is). Please implement this using recursion."
      ]
    },
    {
      "cell_type": "code",
      "execution_count": 6,
      "metadata": {
        "id": "av_JbyjqKl1l"
      },
      "outputs": [],
      "source": [
        "def calculate_income_new(a, i):\n",
        "  if i == 0:\n",
        "    return 0.20 * a[0]\n",
        "  elif i == 1:\n",
        "    sub_income = .1 * calculate_income_new(a, i-1)\n",
        "    own_income = .20 * a[i]\n",
        "    \n",
        "    total = own_income + sub_income\n",
        "    \n",
        "    return total\n",
        "  else:\n",
        "    subsub_income = .05 * calculate_income_new(a, i-2)\n",
        "    sub_income = .1 * calculate_income_new(a, i-1)\n",
        "    own_income = .20 * a[i]\n",
        "    total = own_income + sub_income + subsub_income\n",
        "    \n",
        "    return total\n",
        "\n"
      ]
    },
    {
      "cell_type": "code",
      "execution_count": 194,
      "metadata": {
        "colab": {
          "base_uri": "https://localhost:8080/"
        },
        "id": "SF8BXRN6U-G5",
        "outputId": "12eb62da-d661-4ebc-e00a-d93f47ad86ee"
      },
      "outputs": [
        {
          "data": {
            "text/plain": [
              "20.0"
            ]
          },
          "execution_count": 194,
          "metadata": {},
          "output_type": "execute_result"
        }
      ],
      "source": [
        "# test 1\n",
        "a = [100]\n",
        "calculate_income_new(a, 0)"
      ]
    },
    {
      "cell_type": "code",
      "execution_count": 8,
      "metadata": {
        "colab": {
          "base_uri": "https://localhost:8080/"
        },
        "id": "gvJGJx77U94n",
        "outputId": "038c576e-280c-4f3a-86e4-dd4b3515e825"
      },
      "outputs": [
        {
          "data": {
            "text/plain": [
              "42.0"
            ]
          },
          "execution_count": 8,
          "metadata": {},
          "output_type": "execute_result"
        }
      ],
      "source": [
        "# test 2\n",
        "a = [100, 200]\n",
        "calculate_income_new(a, 1)"
      ]
    },
    {
      "cell_type": "code",
      "execution_count": 9,
      "metadata": {
        "colab": {
          "base_uri": "https://localhost:8080/"
        },
        "id": "m64RjKMtKwFg",
        "outputId": "59b2df11-aeff-46b9-bdae-eb8466781d7f"
      },
      "outputs": [
        {
          "data": {
            "text/plain": [
              "20.0"
            ]
          },
          "execution_count": 9,
          "metadata": {},
          "output_type": "execute_result"
        }
      ],
      "source": [
        "# test 3\n",
        "a = [100, 200, 300]\n",
        "calculate_income_new(a, 0)"
      ]
    },
    {
      "cell_type": "code",
      "execution_count": 10,
      "metadata": {
        "colab": {
          "base_uri": "https://localhost:8080/"
        },
        "id": "BqfZn-1pKxxq",
        "outputId": "5fa06b52-46fe-446c-d1e6-58a6997171c0"
      },
      "outputs": [
        {
          "data": {
            "text/plain": [
              "42.0"
            ]
          },
          "execution_count": 10,
          "metadata": {},
          "output_type": "execute_result"
        }
      ],
      "source": [
        "# test 4\n",
        "a = [100, 200, 300]\n",
        "calculate_income_new(a, 1)"
      ]
    },
    {
      "cell_type": "code",
      "execution_count": 11,
      "metadata": {
        "colab": {
          "base_uri": "https://localhost:8080/"
        },
        "id": "LabO2cYKK0vQ",
        "outputId": "b12e9473-fc50-4f81-fb1e-f99a9c62a6fc"
      },
      "outputs": [
        {
          "data": {
            "text/plain": [
              "65.2"
            ]
          },
          "execution_count": 11,
          "metadata": {},
          "output_type": "execute_result"
        }
      ],
      "source": [
        "# test 5\n",
        "a = [100, 200, 300]\n",
        "calculate_income_new(a, 2)"
      ]
    },
    {
      "cell_type": "markdown",
      "metadata": {
        "id": "yvUK3MH-LKGU"
      },
      "source": [
        "## Exercise 4\n",
        "Please implement the modified business rule using the memoization approach. Please replace the <code>#CODE_HERE</code> placeholders to complete this implementation."
      ]
    },
    {
      "cell_type": "code",
      "execution_count": 199,
      "metadata": {
        "id": "wakPY_6_RzzP"
      },
      "outputs": [],
      "source": [
        "def calculate_income_new_mem(a, i, mem):\n",
        "  if i not in mem:\n",
        "    if i == 0:\n",
        "      ret = 0.2 * a[0]\n",
        "    elif i ==1:\n",
        "      sub_income = calculate_income_new_mem(a, i - 1, mem)\n",
        "      ret = 0.2 * a[i] + 0.1 * sub_income\n",
        "    else:\n",
        "      sub_income = calculate_income_new_mem(a, i - 1, mem)\n",
        "      subsub_income = calculate_income_new_mem(a, i - 2, mem) \n",
        "      ret = 0.2 * a[i] + 0.1 * sub_income + 0.05 * subsub_income\n",
        "      \n",
        "    mem[i] = ret\n",
        "\n",
        "  return mem[i]\n",
        "mem = {}"
      ]
    },
    {
      "cell_type": "code",
      "execution_count": 200,
      "metadata": {
        "colab": {
          "base_uri": "https://localhost:8080/"
        },
        "id": "KUZoUAEJVGoT",
        "outputId": "58b5c4aa-d71b-4aeb-ec8c-8bf759b2aa75"
      },
      "outputs": [
        {
          "data": {
            "text/plain": [
              "20.0"
            ]
          },
          "execution_count": 200,
          "metadata": {},
          "output_type": "execute_result"
        }
      ],
      "source": [
        "# test 1\n",
        "a = [100]\n",
        "calculate_income_new_mem(a, 0, {})"
      ]
    },
    {
      "cell_type": "code",
      "execution_count": 201,
      "metadata": {
        "colab": {
          "base_uri": "https://localhost:8080/"
        },
        "id": "DMRlmXGgVJuB",
        "outputId": "cff9649e-106d-444d-f45f-1ae4a6e2d360"
      },
      "outputs": [
        {
          "data": {
            "text/plain": [
              "42.0"
            ]
          },
          "execution_count": 201,
          "metadata": {},
          "output_type": "execute_result"
        }
      ],
      "source": [
        "# test 2\n",
        "a = [100, 200]\n",
        "calculate_income_new_mem(a, 1, {})"
      ]
    },
    {
      "cell_type": "code",
      "execution_count": 202,
      "metadata": {
        "colab": {
          "base_uri": "https://localhost:8080/"
        },
        "id": "hF4xxtfvS7oW",
        "outputId": "3463ef60-36f5-4626-bade-64d572998ca5"
      },
      "outputs": [
        {
          "data": {
            "text/plain": [
              "20.0"
            ]
          },
          "execution_count": 202,
          "metadata": {},
          "output_type": "execute_result"
        }
      ],
      "source": [
        "# test 3\n",
        "a = [100, 200, 300]\n",
        "calculate_income_new_mem(a, 0, {})"
      ]
    },
    {
      "cell_type": "code",
      "execution_count": 203,
      "metadata": {
        "colab": {
          "base_uri": "https://localhost:8080/"
        },
        "id": "H9gfjrKETBFp",
        "outputId": "d0618749-d8ed-4876-b9d2-ca496d53d7d9"
      },
      "outputs": [
        {
          "data": {
            "text/plain": [
              "42.0"
            ]
          },
          "execution_count": 203,
          "metadata": {},
          "output_type": "execute_result"
        }
      ],
      "source": [
        "# test 4\n",
        "a = [100, 200, 300]\n",
        "calculate_income_new_mem(a, 1, {})"
      ]
    },
    {
      "cell_type": "code",
      "execution_count": 204,
      "metadata": {
        "colab": {
          "base_uri": "https://localhost:8080/"
        },
        "id": "_73nt2vcTNMl",
        "outputId": "570a7d0a-8a41-4d56-90cf-94b4b28e10ee"
      },
      "outputs": [
        {
          "data": {
            "text/plain": [
              "65.2"
            ]
          },
          "execution_count": 204,
          "metadata": {},
          "output_type": "execute_result"
        }
      ],
      "source": [
        "# test 5\n",
        "a = [100, 200, 300]\n",
        "calculate_income_new_mem(a, 2, {})"
      ]
    },
    {
      "cell_type": "markdown",
      "metadata": {
        "id": "9iBt_4KULGeO"
      },
      "source": [
        "## Checkout the time complexity of these two approaches"
      ]
    },
    {
      "cell_type": "code",
      "execution_count": 1,
      "metadata": {
        "colab": {
          "base_uri": "https://localhost:8080/"
        },
        "id": "pW_FOgbELCKm",
        "outputId": "080be6ec-dff9-44ba-8819-dd29304f386c"
      },
      "outputs": [
        {
          "ename": "NameError",
          "evalue": "name 'calculate_income_new' is not defined",
          "output_type": "error",
          "traceback": [
            "\u001b[1;31m---------------------------------------------------------------------------\u001b[0m",
            "\u001b[1;31mNameError\u001b[0m                                 Traceback (most recent call last)",
            "\u001b[1;32me:\\CS\\COSC_2347\\COSC2347_ASM2completed.ipynb Cell 34\u001b[0m line \u001b[0;36m1\n\u001b[1;32m----> <a href='vscode-notebook-cell:/e%3A/CS/COSC_2347/COSC2347_ASM2completed.ipynb#X45sZmlsZQ%3D%3D?line=0'>1</a>\u001b[0m get_ipython()\u001b[39m.\u001b[39;49mrun_cell_magic(\u001b[39m'\u001b[39;49m\u001b[39mtimeit\u001b[39;49m\u001b[39m'\u001b[39;49m, \u001b[39m'\u001b[39;49m\u001b[39m'\u001b[39;49m, \u001b[39m'\u001b[39;49m\u001b[39ma = [100, 200, 300, 400, 500, 600, 700, 800, 900, 1000, 1100, 1200]\u001b[39;49m\u001b[39m\\n\u001b[39;49;00m\u001b[39mcalculate_income_new(a, 11)\u001b[39;49m\u001b[39m\\n\u001b[39;49;00m\u001b[39m'\u001b[39;49m)\n",
            "File \u001b[1;32m~\\AppData\\Roaming\\Python\\Python311\\site-packages\\IPython\\core\\interactiveshell.py:2493\u001b[0m, in \u001b[0;36mInteractiveShell.run_cell_magic\u001b[1;34m(self, magic_name, line, cell)\u001b[0m\n\u001b[0;32m   2491\u001b[0m \u001b[39mwith\u001b[39;00m \u001b[39mself\u001b[39m\u001b[39m.\u001b[39mbuiltin_trap:\n\u001b[0;32m   2492\u001b[0m     args \u001b[39m=\u001b[39m (magic_arg_s, cell)\n\u001b[1;32m-> 2493\u001b[0m     result \u001b[39m=\u001b[39m fn(\u001b[39m*\u001b[39;49margs, \u001b[39m*\u001b[39;49m\u001b[39m*\u001b[39;49mkwargs)\n\u001b[0;32m   2495\u001b[0m \u001b[39m# The code below prevents the output from being displayed\u001b[39;00m\n\u001b[0;32m   2496\u001b[0m \u001b[39m# when using magics with decorator @output_can_be_silenced\u001b[39;00m\n\u001b[0;32m   2497\u001b[0m \u001b[39m# when the last Python token in the expression is a ';'.\u001b[39;00m\n\u001b[0;32m   2498\u001b[0m \u001b[39mif\u001b[39;00m \u001b[39mgetattr\u001b[39m(fn, magic\u001b[39m.\u001b[39mMAGIC_OUTPUT_CAN_BE_SILENCED, \u001b[39mFalse\u001b[39;00m):\n",
            "File \u001b[1;32m~\\AppData\\Roaming\\Python\\Python311\\site-packages\\IPython\\core\\magics\\execution.py:1185\u001b[0m, in \u001b[0;36mExecutionMagics.timeit\u001b[1;34m(self, line, cell, local_ns)\u001b[0m\n\u001b[0;32m   1183\u001b[0m \u001b[39mfor\u001b[39;00m index \u001b[39min\u001b[39;00m \u001b[39mrange\u001b[39m(\u001b[39m0\u001b[39m, \u001b[39m10\u001b[39m):\n\u001b[0;32m   1184\u001b[0m     number \u001b[39m=\u001b[39m \u001b[39m10\u001b[39m \u001b[39m*\u001b[39m\u001b[39m*\u001b[39m index\n\u001b[1;32m-> 1185\u001b[0m     time_number \u001b[39m=\u001b[39m timer\u001b[39m.\u001b[39;49mtimeit(number)\n\u001b[0;32m   1186\u001b[0m     \u001b[39mif\u001b[39;00m time_number \u001b[39m>\u001b[39m\u001b[39m=\u001b[39m \u001b[39m0.2\u001b[39m:\n\u001b[0;32m   1187\u001b[0m         \u001b[39mbreak\u001b[39;00m\n",
            "File \u001b[1;32m~\\AppData\\Roaming\\Python\\Python311\\site-packages\\IPython\\core\\magics\\execution.py:173\u001b[0m, in \u001b[0;36mTimer.timeit\u001b[1;34m(self, number)\u001b[0m\n\u001b[0;32m    171\u001b[0m gc\u001b[39m.\u001b[39mdisable()\n\u001b[0;32m    172\u001b[0m \u001b[39mtry\u001b[39;00m:\n\u001b[1;32m--> 173\u001b[0m     timing \u001b[39m=\u001b[39m \u001b[39mself\u001b[39;49m\u001b[39m.\u001b[39;49minner(it, \u001b[39mself\u001b[39;49m\u001b[39m.\u001b[39;49mtimer)\n\u001b[0;32m    174\u001b[0m \u001b[39mfinally\u001b[39;00m:\n\u001b[0;32m    175\u001b[0m     \u001b[39mif\u001b[39;00m gcold:\n",
            "File \u001b[1;32m<magic-timeit>:2\u001b[0m, in \u001b[0;36minner\u001b[1;34m(_it, _timer)\u001b[0m\n",
            "\u001b[1;31mNameError\u001b[0m: name 'calculate_income_new' is not defined"
          ]
        }
      ],
      "source": [
        "%%timeit\n",
        "a = [100, 200, 300, 400, 500, 600, 700, 800, 900, 1000, 1100, 1200]\n",
        "calculate_income_new(a, 11)"
      ]
    },
    {
      "cell_type": "code",
      "execution_count": 180,
      "metadata": {
        "colab": {
          "base_uri": "https://localhost:8080/"
        },
        "id": "VVr8aV2UTWVK",
        "outputId": "6b3cc4c2-9c32-40a9-cf8f-3f5b85e90093"
      },
      "outputs": [
        {
          "name": "stdout",
          "output_type": "stream",
          "text": [
            "3.42 µs ± 42.7 ns per loop (mean ± std. dev. of 7 runs, 100,000 loops each)\n"
          ]
        }
      ],
      "source": [
        "%%timeit\n",
        "a = [100, 200, 300, 400, 500, 600, 700, 800, 900, 1000, 1100, 1200]\n",
        "calculate_income_new_mem(a, 11, {})"
      ]
    },
    {
      "cell_type": "markdown",
      "metadata": {
        "id": "JpYI1Df7g0LO"
      },
      "source": [
        "## Reflection\n",
        "This part is not graded but is helpful for your knowledge.\n",
        "Which approach is faster and why?\n"
      ]
    },
    {
      "cell_type": "markdown",
      "metadata": {
        "id": "NLHWhmVLVxX2"
      },
      "source": [
        "# Bonus\n",
        "This bonus section is worth 10 points, but the total/final grade should not exceed 100.\n",
        "\n",
        "The implementation of the new business rule with memoization (<code>calculate_income_new_mem</code>) has good performance (in terms of time complexity). However, it still requires memory (suffers from memory/space complexity). Please revise this method using an iterative approach so it can still have good performance while not suffering from space requirements.\n"
      ]
    },
    {
      "cell_type": "code",
      "execution_count": null,
      "metadata": {
        "id": "q_zGFR5ATaIZ"
      },
      "outputs": [],
      "source": []
    }
  ],
  "metadata": {
    "colab": {
      "collapsed_sections": [],
      "provenance": []
    },
    "kernelspec": {
      "display_name": "Python 3",
      "name": "python3"
    },
    "language_info": {
      "codemirror_mode": {
        "name": "ipython",
        "version": 3
      },
      "file_extension": ".py",
      "mimetype": "text/x-python",
      "name": "python",
      "nbconvert_exporter": "python",
      "pygments_lexer": "ipython3",
      "version": "3.11.5"
    }
  },
  "nbformat": 4,
  "nbformat_minor": 0
}
