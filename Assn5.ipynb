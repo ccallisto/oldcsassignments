{
  "cells": [
    {
      "cell_type": "markdown",
      "metadata": {
        "id": "ReDMM75XcKru"
      },
      "source": [
        "# Tribonacci number\n",
        "The Tribonacci sequence $T_n$ is defined as follows: \n",
        "\n",
        "$T_0 = 0$, $T_1 = 1$, $T_2 = 1$, and $T_{n} = T_{n-1} + T_{n-2} + T_{n-3}$ for $n >= 3$.\n",
        "\n",
        "Given n, return the value of $T_n$.\n",
        "\n",
        "## Exercise 1. Recursive (easy) approach\n",
        "Implement this algorithm using recursive approach."
      ]
    },
    {
      "cell_type": "code",
      "execution_count": 1,
      "metadata": {
        "id": "fkb-zzSjigDn"
      },
      "outputs": [],
      "source": [
        "def tribo_recur(n):\n",
        "    if n == 0:\n",
        "        return 0\n",
        "    elif n == 1 or n == 2:\n",
        "        return 1\n",
        "    else:\n",
        "        return tribo_recur(n - 1) + tribo_recur(n - 2) + tribo_recur(n - 3)"
      ]
    },
    {
      "cell_type": "code",
      "execution_count": 2,
      "metadata": {
        "id": "cHrdiz2svjWY"
      },
      "outputs": [],
      "source": [
        "def test(func, i, o):\n",
        "  try:\n",
        "    assert func(i) == o\n",
        "    print(\"Passed\")\n",
        "  except:\n",
        "    print(\"Failed\")"
      ]
    },
    {
      "cell_type": "code",
      "execution_count": 3,
      "metadata": {
        "colab": {
          "base_uri": "https://localhost:8080/"
        },
        "id": "RRZX7rshcH0c",
        "outputId": "0b53b511-867d-4b96-a87e-c93ac2ca1c95"
      },
      "outputs": [
        {
          "name": "stdout",
          "output_type": "stream",
          "text": [
            "Passed\n",
            "Passed\n",
            "Passed\n"
          ]
        }
      ],
      "source": [
        "# test case 1 (10 pt)\n",
        "test(tribo_recur, 0, 0)\n",
        "test(tribo_recur, 2, 1)\n",
        "test(tribo_recur, 1, 1)"
      ]
    },
    {
      "cell_type": "code",
      "execution_count": 4,
      "metadata": {
        "colab": {
          "base_uri": "https://localhost:8080/"
        },
        "id": "xvdsZsTUwG7_",
        "outputId": "fc5f22d8-eb3e-40de-fe1a-4c22403d4625"
      },
      "outputs": [
        {
          "name": "stdout",
          "output_type": "stream",
          "text": [
            "Passed\n",
            "Passed\n",
            "Passed\n"
          ]
        }
      ],
      "source": [
        "# test case 2 (10 pt)\n",
        "test(tribo_recur, 3, 2)\n",
        "test(tribo_recur, 4, 4)\n",
        "test(tribo_recur, 5, 7)"
      ]
    },
    {
      "cell_type": "markdown",
      "metadata": {
        "id": "X8hYKfKvxEoW"
      },
      "source": [
        "## \"Wall clock\" counting for Exercise 1\n",
        "You can use these two code cells to have a sense (just a sense of) how the time changes compare to the input change"
      ]
    },
    {
      "cell_type": "code",
      "execution_count": 5,
      "metadata": {
        "colab": {
          "base_uri": "https://localhost:8080/"
        },
        "id": "YLpnVx2Ywddf",
        "outputId": "09bf8e3d-34ea-4714-8533-61dd6cf011ea"
      },
      "outputs": [
        {
          "name": "stdout",
          "output_type": "stream",
          "text": [
            "16.1 µs ± 20.1 ns per loop (mean ± std. dev. of 7 runs, 100,000 loops each)\n"
          ]
        }
      ],
      "source": [
        "%%timeit\n",
        "tribo_recur(10)"
      ]
    },
    {
      "cell_type": "code",
      "execution_count": 6,
      "metadata": {
        "colab": {
          "base_uri": "https://localhost:8080/"
        },
        "id": "Ropi-n-XxTwA",
        "outputId": "68472a2f-17a8-43bf-d8a5-01b01e38ced5"
      },
      "outputs": [
        {
          "name": "stdout",
          "output_type": "stream",
          "text": [
            "3.15 s ± 6.13 ms per loop (mean ± std. dev. of 7 runs, 1 loop each)\n"
          ]
        }
      ],
      "source": [
        "%%timeit\n",
        "tribo_recur(30)"
      ]
    },
    {
      "cell_type": "markdown",
      "metadata": {
        "id": "1C98jr9hdk5Z"
      },
      "source": [
        "## Reflection on Exercise 1\n",
        "Please answers the following questions (by typing the answer) in the following code cell.\n",
        "- from 30 values to 10, what is the rate (ratio, order of growth) of input size change?\n",
        "- from your execution, what is the rate (ratio, order of growth) of the execution time. Instruction: Take the time displayed, convert to the same unit, do the division and print the rate.\n",
        "\n",
        "\n",
        "What is the time complexity O(?) of this implementation. Please print your answer as either one of the following\n",
        "- \"constant\" (if it is O(1))\n",
        "- \"logarithmic\" (if it is O(logn))\n",
        "- \"linear\" (if it is O(n))\n",
        "- \"log linear\" if it is O(nlogn)\n",
        "- \"quadratic\" if it is O(n^2)\n",
        "- \"exponential\" if it is O(3^n)"
      ]
    },
    {
      "cell_type": "code",
      "execution_count": null,
      "metadata": {
        "id": "2KQLb5BndkNf"
      },
      "outputs": [],
      "source": [
        "# CODE_HERE (5 pt)\n",
        "# print 'input change ratio xxx'\n",
        "# print 'time change ratio xxx'\n",
        "# print 'time complexity type'\n",
        "print('input change ratio 3.0')\n",
        "print('time change ratio 195.6521739130435')\n",
        "print('time complexity type exponential')"
      ]
    },
    {
      "cell_type": "markdown",
      "metadata": {
        "id": "zWzcqHheyH-c"
      },
      "source": [
        "## Exercise 2. Dynamic programming using dictionary (memoization)\n",
        "Implement this algorithm using recursive approach and memoization."
      ]
    },
    {
      "cell_type": "code",
      "execution_count": 2,
      "metadata": {
        "id": "nhk-U7o8yHIk"
      },
      "outputs": [],
      "source": [
        "def tribo_recur_mem(n):\n",
        "    def helper(n, mem):\n",
        "        \n",
        "        if n in mem:\n",
        "            return mem[n]\n",
        "        \n",
        "        if n == 0:\n",
        "            return 0\n",
        "        elif n == 1 or n == 2:\n",
        "            return 1\n",
        "        \n",
        "        mem[n] = helper(n - 1, mem) + helper(n - 2, mem) + helper(n - 3, mem)\n",
        "        return mem[n]\n",
        "    \n",
        "    return helper(n, {})"
      ]
    },
    {
      "cell_type": "code",
      "execution_count": 12,
      "metadata": {
        "colab": {
          "base_uri": "https://localhost:8080/"
        },
        "id": "05c6hHFgeMI6",
        "outputId": "9cb10e6f-338a-4f79-e052-f0dfc6ba9ff2"
      },
      "outputs": [
        {
          "name": "stdout",
          "output_type": "stream",
          "text": [
            "Passed\n",
            "Passed\n",
            "Passed\n"
          ]
        }
      ],
      "source": [
        "# test case 1 (10 pt)\n",
        "test(tribo_recur_mem, 0, 0)\n",
        "test(tribo_recur_mem, 1, 1)\n",
        "test(tribo_recur_mem, 2, 1)"
      ]
    },
    {
      "cell_type": "code",
      "execution_count": 13,
      "metadata": {
        "colab": {
          "base_uri": "https://localhost:8080/"
        },
        "id": "o3p_qCyozAEI",
        "outputId": "10670db3-0a54-429c-b295-ab8f0dc42f9a"
      },
      "outputs": [
        {
          "name": "stdout",
          "output_type": "stream",
          "text": [
            "Passed\n",
            "Passed\n",
            "Passed\n"
          ]
        }
      ],
      "source": [
        "# test case 2 (10 pt)\n",
        "test(tribo_recur_mem, 3, 2)\n",
        "test(tribo_recur_mem, 4, 4)\n",
        "test(tribo_recur_mem, 5, 7)"
      ]
    },
    {
      "cell_type": "markdown",
      "metadata": {
        "id": "Wf6hprqvzkri"
      },
      "source": [
        "## \"Wall clock\" counting for Exercise 2\n",
        "You can use these two code cells to have a sense (just a sense of) how the time changes compare to the input change"
      ]
    },
    {
      "cell_type": "code",
      "execution_count": 3,
      "metadata": {
        "colab": {
          "base_uri": "https://localhost:8080/"
        },
        "id": "U_78NFvRzlTS",
        "outputId": "ff67963a-ef94-4a17-87e0-10fa6fd7c617"
      },
      "outputs": [
        {
          "name": "stdout",
          "output_type": "stream",
          "text": [
            "3.08 µs ± 6.21 ns per loop (mean ± std. dev. of 7 runs, 100,000 loops each)\n"
          ]
        }
      ],
      "source": [
        "%%timeit\n",
        "tribo_recur_mem(10)"
      ]
    },
    {
      "cell_type": "code",
      "execution_count": 4,
      "metadata": {
        "colab": {
          "base_uri": "https://localhost:8080/"
        },
        "id": "DoFaYUuKz5NC",
        "outputId": "20a12856-038a-45ea-f3ce-960a0939236a"
      },
      "outputs": [
        {
          "name": "stdout",
          "output_type": "stream",
          "text": [
            "10.6 µs ± 19.8 ns per loop (mean ± std. dev. of 7 runs, 100,000 loops each)\n"
          ]
        }
      ],
      "source": [
        "%%timeit\n",
        "tribo_recur_mem(30)"
      ]
    },
    {
      "cell_type": "markdown",
      "metadata": {
        "id": "1BSjOVtWzOSQ"
      },
      "source": [
        "## Reflection on Exercise 2\n",
        "Please answers the following questions (by typing the answer) in the following code cell.\n",
        "- from 30 values to 10, what is the rate (ratio, order of growth) of input size change?\n",
        "- from your execution, what is the rate (ratio, order of growth) of the execution time. Instruction: Take the time displayed, convert to the same unit, do the division and print the rate.\n",
        "\n",
        "\n",
        "What is the time complexity O(?) of this implementation. Please print your answer as either one of the following\n",
        "- \"constant\" (if it is O(1))\n",
        "- \"logarithmic\" (if it is O(logn))\n",
        "- \"linear\" (if it is O(n))\n",
        "- \"log linear\" if it is O(nlogn)\n",
        "- \"quadratic\" if it is O(n^2)\n",
        "- \"exponential\" if it is O(3^n)"
      ]
    },
    {
      "cell_type": "code",
      "execution_count": 6,
      "metadata": {
        "id": "HBl8Zjhe6sgp"
      },
      "outputs": [
        {
          "name": "stdout",
          "output_type": "stream",
          "text": [
            "input change ratio 3.0\n",
            "time change ratio 3.44\n",
            "time complexity type linear\n"
          ]
        }
      ],
      "source": [
        "# CODE_HERE (5 pt)\n",
        "# print 'input change ratio xxx'\n",
        "# print 'time change ratio xxx'\n",
        "# print 'time complexity type'\n",
        "print('input change ratio 3.0')\n",
        "print('time change ratio 3.44')\n",
        "print('time complexity type linear')"
      ]
    },
    {
      "cell_type": "markdown",
      "metadata": {
        "id": "xcaC6ImO0O3C"
      },
      "source": [
        "# Exercise 3. Dynamic programming using list\n",
        "Recursive and memoization has linear complexity with the trade off of some space. However, it still involves linear number of recursive calls. Thus, we can make use of a list to avoid recursive calls."
      ]
    },
    {
      "cell_type": "code",
      "execution_count": 8,
      "metadata": {
        "id": "Blg6Xw480I7R"
      },
      "outputs": [],
      "source": [
        "def tribo_dp(n):\n",
        "    if n == 0:\n",
        "        return 0\n",
        "    elif n == 1 or n == 2:\n",
        "        return 1\n",
        "    \n",
        "    \n",
        "    dp = [0] * (n+1)\n",
        "    # Set the base cases\n",
        "    dp[0], dp[1], dp[2] = 0, 1, 1\n",
        "    \n",
        "    \n",
        "    for i in range(3, n+1):\n",
        "        dp[i] = dp[i-1] + dp[i-2] + dp[i-3]\n",
        "    \n",
        "   \n",
        "    return dp[n]\n",
        "  "
      ]
    },
    {
      "cell_type": "code",
      "execution_count": 15,
      "metadata": {
        "colab": {
          "base_uri": "https://localhost:8080/"
        },
        "id": "LqhhIdM-0Jc8",
        "outputId": "e61a7e25-ca11-4b53-b56d-a2a64508836c"
      },
      "outputs": [
        {
          "name": "stdout",
          "output_type": "stream",
          "text": [
            "Passed\n",
            "Passed\n",
            "Passed\n"
          ]
        }
      ],
      "source": [
        "# test case 1\n",
        "test(tribo_dp, 0, 0)\n",
        "test(tribo_dp, 1, 1)\n",
        "test(tribo_dp, 2, 1)"
      ]
    },
    {
      "cell_type": "code",
      "execution_count": 16,
      "metadata": {
        "colab": {
          "base_uri": "https://localhost:8080/"
        },
        "id": "wZ6OeRfj1qVT",
        "outputId": "a23e4811-5d90-4c4f-dcb8-bb1b69539f76"
      },
      "outputs": [
        {
          "name": "stdout",
          "output_type": "stream",
          "text": [
            "Passed\n",
            "Passed\n",
            "Passed\n"
          ]
        }
      ],
      "source": [
        "# test case 2\n",
        "test(tribo_dp, 3, 2)\n",
        "test(tribo_dp, 4, 4)\n",
        "test(tribo_dp, 5, 7)"
      ]
    },
    {
      "cell_type": "markdown",
      "metadata": {
        "id": "hVg6HOP3_R3Q"
      },
      "source": [
        "## \"Wall clock\" counting for Exercise 3\n",
        "You can use these two code cells to have a sense (just a sense of) how the time changes compare to the input change"
      ]
    },
    {
      "cell_type": "code",
      "execution_count": 9,
      "metadata": {
        "colab": {
          "base_uri": "https://localhost:8080/"
        },
        "id": "SizIkeXT_TUX",
        "outputId": "768e0fb5-d3a6-4a55-dc68-2ea624ff55e8"
      },
      "outputs": [
        {
          "name": "stdout",
          "output_type": "stream",
          "text": [
            "834 ns ± 2.71 ns per loop (mean ± std. dev. of 7 runs, 1,000,000 loops each)\n"
          ]
        }
      ],
      "source": [
        "%%timeit\n",
        "tribo_dp(10)"
      ]
    },
    {
      "cell_type": "code",
      "execution_count": 10,
      "metadata": {
        "colab": {
          "base_uri": "https://localhost:8080/"
        },
        "id": "Qm1AFOBH_YYo",
        "outputId": "aba4789a-9b95-4c6b-dbee-05bad89d8f50"
      },
      "outputs": [
        {
          "name": "stdout",
          "output_type": "stream",
          "text": [
            "2.94 µs ± 13.3 ns per loop (mean ± std. dev. of 7 runs, 100,000 loops each)\n"
          ]
        }
      ],
      "source": [
        "%%timeit\n",
        "tribo_dp(30)"
      ]
    },
    {
      "cell_type": "markdown",
      "metadata": {
        "id": "lMF85ujV_GIV"
      },
      "source": [
        "## Reflection on Exercise 3\n",
        "Please answers the following questions (by typing the answer) in the following code cell.\n",
        "- from 30 values to 10, what is the rate (ratio, order of growth) of input size change?\n",
        "- from your execution, what is the rate (ratio, order of growth) of the execution time. Instruction: Take the time displayed, convert to the same unit, do the division and print the rate.\n",
        "\n",
        "\n",
        "What is the time complexity O(?) of this implementation. Please print your answer as either one of the following\n",
        "- \"constant\" (if it is O(1))\n",
        "- \"logarithmic\" (if it is O(logn))\n",
        "- \"linear\" (if it is O(n))\n",
        "- \"log linear\" if it is O(nlogn)\n",
        "- \"quadratic\" if it is O(n^2)\n",
        "- \"exponential\" if it is O(3^n)"
      ]
    },
    {
      "cell_type": "code",
      "execution_count": 11,
      "metadata": {
        "id": "A9LWhFD1_mnR"
      },
      "outputs": [
        {
          "name": "stdout",
          "output_type": "stream",
          "text": [
            "input change ratio 3.0\n",
            "time change ratio 3.53\n",
            "time complexity type linear\n"
          ]
        }
      ],
      "source": [
        "# CODE_HERE (5 pt)\n",
        "# print 'input change ratio xxx'\n",
        "# print 'time change ratio xxx'\n",
        "# print 'time complexity type'\n",
        "print('input change ratio 3.0')\n",
        "print('time change ratio 3.53')\n",
        "print('time complexity type linear')"
      ]
    },
    {
      "cell_type": "markdown",
      "metadata": {
        "id": "e4OxiLf1_1_n"
      },
      "source": [
        "# Exercise 4. Iterative approach\n",
        "Both dynamic approaches (using list and using dictionary) are linear in terms of time and complexity O(n). The linear approach is better that it doesn't require the space for storing all the outputs. Specifically, we do not need the whole sequence from 1 to n but want only the last one. Thus, we can use iterative approach to save space. This approach is like using 4 pointers at at time. One for the current value, one for the -1 step value, one for -2 steps value, one for -3 steps value."
      ]
    },
    {
      "cell_type": "code",
      "execution_count": 12,
      "metadata": {
        "id": "pd-Ux6YU_uvM"
      },
      "outputs": [],
      "source": [
        "def tribo_iter(n):\n",
        "    if n == 0:\n",
        "        return 0\n",
        "    elif n == 1 or n == 2:\n",
        "        return 1\n",
        "    \n",
        "    p0, p1, p2 = 0, 1, 1\n",
        "    \n",
        "    for i in range(3, n + 1):\n",
        "        p = p0 + p1 + p2\n",
        "        p0, p1, p2 = p1, p2, p\n",
        "        \n",
        "    return p\n",
        "  "
      ]
    },
    {
      "cell_type": "code",
      "execution_count": 18,
      "metadata": {
        "colab": {
          "base_uri": "https://localhost:8080/"
        },
        "id": "XBe7pFRKBEf5",
        "outputId": "58c16453-f421-42cf-9a8f-ecabb785ae09"
      },
      "outputs": [
        {
          "name": "stdout",
          "output_type": "stream",
          "text": [
            "Passed\n",
            "Passed\n",
            "Passed\n"
          ]
        }
      ],
      "source": [
        "# test case 1\n",
        "test(tribo_iter, 0, 0)\n",
        "test(tribo_iter, 1, 1)\n",
        "test(tribo_iter, 2, 1)"
      ]
    },
    {
      "cell_type": "code",
      "execution_count": 19,
      "metadata": {
        "colab": {
          "base_uri": "https://localhost:8080/"
        },
        "id": "M-dfRWWBBIHY",
        "outputId": "82ea1d12-50cb-43d1-df60-75dd61d4ae5b"
      },
      "outputs": [
        {
          "name": "stdout",
          "output_type": "stream",
          "text": [
            "Passed\n",
            "Passed\n",
            "Passed\n"
          ]
        }
      ],
      "source": [
        "# test case 2\n",
        "test(tribo_iter, 3, 2)\n",
        "test(tribo_iter, 4, 4)\n",
        "test(tribo_iter, 5, 7)"
      ]
    },
    {
      "cell_type": "markdown",
      "metadata": {
        "id": "u5hpxTPNBPpZ"
      },
      "source": [
        "## \"Wall clock\" counting for Exercise 4\n",
        "You can use these two code cells to have a sense (just a sense of) how the time changes compare to the input change"
      ]
    },
    {
      "cell_type": "code",
      "execution_count": 13,
      "metadata": {
        "colab": {
          "base_uri": "https://localhost:8080/"
        },
        "id": "xqay3NQHBUcN",
        "outputId": "9ec64bc1-aebd-4ed2-b7cf-0c398526f549"
      },
      "outputs": [
        {
          "name": "stdout",
          "output_type": "stream",
          "text": [
            "416 ns ± 0.602 ns per loop (mean ± std. dev. of 7 runs, 1,000,000 loops each)\n"
          ]
        }
      ],
      "source": [
        "%%timeit\n",
        "tribo_iter(10)"
      ]
    },
    {
      "cell_type": "code",
      "execution_count": 14,
      "metadata": {
        "colab": {
          "base_uri": "https://localhost:8080/"
        },
        "id": "UjcMesQ7BXRl",
        "outputId": "2d1af0bf-fb10-4dd6-df38-74065b8d5bbc"
      },
      "outputs": [
        {
          "name": "stdout",
          "output_type": "stream",
          "text": [
            "2.04 µs ± 56.8 ns per loop (mean ± std. dev. of 7 runs, 100,000 loops each)\n"
          ]
        }
      ],
      "source": [
        "%%timeit\n",
        "tribo_iter(30)"
      ]
    },
    {
      "cell_type": "markdown",
      "metadata": {
        "id": "R51nHomxBf0-"
      },
      "source": [
        "## Reflection on Exercise 4\n",
        "Please answers the following questions (by typing the answer) in the following code cell.\n",
        "- from 30 values to 10, what is the rate (ratio, order of growth) of input size change?\n",
        "- from your execution, what is the rate (ratio, order of growth) of the execution time. Instruction: Take the time displayed, convert to the same unit, do the division and print the rate.\n",
        "\n",
        "\n",
        "What is the time complexity O(?) of this implementation. Please print your answer as either one of the following\n",
        "- \"constant\" (if it is O(1))\n",
        "- \"logarithmic\" (if it is O(logn))\n",
        "- \"linear\" (if it is O(n))\n",
        "- \"log linear\" if it is O(nlogn)\n",
        "- \"quadratic\" if it is O(n^2)\n",
        "- \"exponential\" if it is O(3^n)"
      ]
    },
    {
      "cell_type": "code",
      "execution_count": 15,
      "metadata": {
        "id": "WFcWi2SLBaFU"
      },
      "outputs": [
        {
          "name": "stdout",
          "output_type": "stream",
          "text": [
            "input change ratio 3.0\n",
            "time change ratio 4.90\n",
            "time complexity type linear\n"
          ]
        }
      ],
      "source": [
        "# CODE_HERE (5 pt)\n",
        "# print 'input change ratio xxx'\n",
        "# print 'time change ratio xxx'\n",
        "# print 'time complexity type'\n",
        "print('input change ratio 3.0')\n",
        "print('time change ratio 4.90')\n",
        "print('time complexity type linear')"
      ]
    },
    {
      "cell_type": "markdown",
      "metadata": {
        "id": "_E61cVgVOaNi"
      },
      "source": [
        "# Reflection\n",
        "By now, you should have mastered main techniques to perform some algorithms, namely:\n",
        "- Recursive approach\n",
        "- Dynamic programming using dictionary or memoization\n",
        "- Dynamic programming using list\n",
        "- Iterative approach\n",
        "\n",
        "You should be able to analyze the pros and cons of each approach and how to move from one to another."
      ]
    },
    {
      "cell_type": "code",
      "execution_count": null,
      "metadata": {
        "id": "MsHFY9oBBqPp"
      },
      "outputs": [],
      "source": []
    }
  ],
  "metadata": {
    "colab": {
      "provenance": []
    },
    "kernelspec": {
      "display_name": "Python 3",
      "name": "python3"
    },
    "language_info": {
      "codemirror_mode": {
        "name": "ipython",
        "version": 3
      },
      "file_extension": ".py",
      "mimetype": "text/x-python",
      "name": "python",
      "nbconvert_exporter": "python",
      "pygments_lexer": "ipython3",
      "version": "3.12.0"
    }
  },
  "nbformat": 4,
  "nbformat_minor": 0
}
