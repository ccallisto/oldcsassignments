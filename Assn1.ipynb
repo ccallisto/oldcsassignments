{
  "cells": [
    {
      "cell_type": "markdown",
      "metadata": {
        "id": "ZNzVC0gXm0hs"
      },
      "source": [
        "# COSC2347 - Assignment 1\n",
        "In this assignment, you will review the language with input, output, control structure, loop, and function in Python. You will also learn how to arrange your software into modules with abstractions of parts of your software's functionalities into functions. As a first assignment, we will take the guided approach here. Therefore, we have prepared the main flow of this application, and you are about to replace the <code># CODE_HERE</code> place holers with your codes. Specifically, you will implement an application with functions to find the cube root of a number if it is a perfect cube or to approximate it otherwise. Here is the main description of the application:\n",
        "\n",
        "Step 1: Input\n",
        "* Ask the user to input a number\n",
        "\n",
        "Step 2: Perfect cube\n",
        "* Try to find an integer cube root for this number if it is a perfect cube and display it and the number of guesses before finding this.\n",
        "\n",
        "* If cannot find it (the input number is not a perfect cube), print out a message \"The input number is not a perfect cube, would you like to approximate its cube root (yes/no)\".\n",
        "* If the user inputs no, then finish the program\n",
        "* If the user inputs yes, then continue to Step 3\n",
        "* If the user inputs a wrong message, inform the user and ask again\n",
        "\n",
        "Step 3: Approximation\n",
        "* Ask the user to input the approximation error tolerance (epsilon)\n",
        "* Validate this tolerance (e.g., ask the user to input again if it is not a number)\n",
        "* Perform the approximation and display the approximated result and number of guesses if found.\n",
        "* If not found, inform the user and stop\n",
        "\n",
        "Note:\n",
        "1. In Python, you can use x**(1/3) to find the root cube of x. However, you cannot use that operation here but write functions to do these tasks.\n",
        "2. There should be at least two functions in this program. One for finding the root cube of a perfect cube (integer root cube) and another one for approximation. (-20 if not using functions for these two tasks).\n",
        "3. All functions should work with positive and also negative numbers. The approximation function should work with numbers that are in the -1 to 1 range too. (-10 if your solution doesn't work with negative numbers, -10 it doesn't work with values in the range -1 to 1).\n",
        "4. Please use the bisection method to improve performance for both perfect cube and approximation cases. (-5 if use the guess and check approach for the perfect cube, -5 if use the guess and check approach for the approximation).\n",
        "5. Bonuses are given to improvements of the specified logic (but the total point does not exceed 100).\n",
        "* +5 for the case the program asks for a number, validate that users must input a number. Otherwise, inform the user and ask the user to input again.\n",
        "* +5 for extracting the input for the number task into a new function (because this function is reusable in different places). This function should validate that the input is actually a number or prompt for inputting again otherwise."
      ]
    },
    {
      "cell_type": "markdown",
      "metadata": {
        "id": "AcBNLVHS56mf"
      },
      "source": [
        "# Perfect cube root"
      ]
    },
    {
      "cell_type": "code",
      "execution_count": 1,
      "metadata": {
        "id": "Azo9iz4lI_D8"
      },
      "outputs": [],
      "source": [
        "def find_perfect_cube_root(x):\n",
        "  cube = abs(x)\n",
        "  guesses = 1\n",
        "  low = 0\n",
        "  high = cube\n",
        "  guess = int((low + high)/2)\n",
        "  while guess**3 != cube and guess <= cube and low <= high:\n",
        "    if guess**3 < cube:\n",
        "      low = guess+1 #round(guess)\n",
        "    else:\n",
        "        high = guess-1 #round(guess)\n",
        "    guess = int((low + high)/2)\n",
        "    guesses+=1\n",
        "  # switch sign if the input is negative\n",
        "  if x < 0:\n",
        "      guess = -guess\n",
        "  if guess**3 == x:\n",
        "      print(f\"Found root cube as {guess} for perfect cube {x} after {guesses}\")\n",
        "      return True\n",
        "  else:\n",
        "      print(f\"Input number {x} is not a perfect cube\")\n",
        "      return False\n",
        "\n"
      ]
    },
    {
      "cell_type": "markdown",
      "metadata": {
        "id": "I7zqXfe2N2zQ"
      },
      "source": [
        "## Test cases\n",
        "Each of the following test cases is worth 3 points. Note: Passing test cases do not guarantee correctness (e.g., students may just fix the output). Therefore, the TA has the right to refuse to give marks if the implementation in the code chunk above is incorrect."
      ]
    },
    {
      "cell_type": "code",
      "execution_count": 2,
      "metadata": {
        "colab": {
          "base_uri": "https://localhost:8080/"
        },
        "id": "T9EBWl0CQC3e",
        "outputId": "5511fff7-72fc-42c9-9092-9603ec91e802"
      },
      "outputs": [
        {
          "output_type": "stream",
          "name": "stdout",
          "text": [
            "Found root cube as 0 for perfect cube 0 after 1\n"
          ]
        },
        {
          "output_type": "execute_result",
          "data": {
            "text/plain": [
              "True"
            ]
          },
          "metadata": {},
          "execution_count": 2
        }
      ],
      "source": [
        "# test 1\n",
        "find_perfect_cube_root(0)"
      ]
    },
    {
      "cell_type": "code",
      "execution_count": null,
      "metadata": {
        "colab": {
          "base_uri": "https://localhost:8080/"
        },
        "id": "z0oQTfiJ2P0W",
        "outputId": "c204b45a-b50c-46fb-fdf9-a9f3bc78f028"
      },
      "outputs": [
        {
          "output_type": "stream",
          "name": "stdout",
          "text": [
            "Found root cube as -1 for perfect cube -1 after 2\n"
          ]
        },
        {
          "output_type": "execute_result",
          "data": {
            "text/plain": [
              "True"
            ]
          },
          "metadata": {},
          "execution_count": 154
        }
      ],
      "source": [
        "# test 2\n",
        "find_perfect_cube_root(-1)"
      ]
    },
    {
      "cell_type": "code",
      "execution_count": null,
      "metadata": {
        "colab": {
          "base_uri": "https://localhost:8080/"
        },
        "id": "MIi4Q_8r4lD6",
        "outputId": "70ff1985-9553-42a3-b7cc-5b3c103bce2d"
      },
      "outputs": [
        {
          "output_type": "stream",
          "name": "stdout",
          "text": [
            "Found root cube as 1.0 for perfect cube 1 after 1\n"
          ]
        },
        {
          "output_type": "execute_result",
          "data": {
            "text/plain": [
              "True"
            ]
          },
          "metadata": {},
          "execution_count": 133
        }
      ],
      "source": [
        "# test 3\n",
        "find_perfect_cube_root(1)"
      ]
    },
    {
      "cell_type": "code",
      "execution_count": 3,
      "metadata": {
        "colab": {
          "base_uri": "https://localhost:8080/"
        },
        "id": "-B2EfZws4pNp",
        "outputId": "03526dd3-9547-4b8f-fe46-93ac91a0066f"
      },
      "outputs": [
        {
          "output_type": "stream",
          "name": "stdout",
          "text": [
            "Found root cube as 3 for perfect cube 27 after 5\n"
          ]
        },
        {
          "output_type": "execute_result",
          "data": {
            "text/plain": [
              "True"
            ]
          },
          "metadata": {},
          "execution_count": 3
        }
      ],
      "source": [
        "# test 4\n",
        "find_perfect_cube_root(27)"
      ]
    },
    {
      "cell_type": "code",
      "execution_count": null,
      "metadata": {
        "colab": {
          "base_uri": "https://localhost:8080/"
        },
        "id": "zn85Bqx64vNf",
        "outputId": "f3db876a-251c-4909-ead8-b57e4b8cfda7"
      },
      "outputs": [
        {
          "output_type": "stream",
          "name": "stdout",
          "text": [
            "Input number -27 is not a perfect cube\n"
          ]
        },
        {
          "output_type": "execute_result",
          "data": {
            "text/plain": [
              "False"
            ]
          },
          "metadata": {},
          "execution_count": 151
        }
      ],
      "source": [
        "# test 5\n",
        "find_perfect_cube_root(-27)"
      ]
    },
    {
      "cell_type": "code",
      "execution_count": null,
      "metadata": {
        "colab": {
          "base_uri": "https://localhost:8080/"
        },
        "id": "v-VIpq1e41b-",
        "outputId": "56dcb496-913a-4be3-d895-942c2f11c630"
      },
      "outputs": [
        {
          "output_type": "stream",
          "name": "stdout",
          "text": [
            "Input number 9 is not a perfect cube\n"
          ]
        },
        {
          "output_type": "execute_result",
          "data": {
            "text/plain": [
              "False"
            ]
          },
          "metadata": {},
          "execution_count": 103
        }
      ],
      "source": [
        "# test 6\n",
        "find_perfect_cube_root(9)"
      ]
    },
    {
      "cell_type": "code",
      "execution_count": null,
      "metadata": {
        "colab": {
          "base_uri": "https://localhost:8080/"
        },
        "id": "Fjq2omgV6Ej-",
        "outputId": "cb8c0156-8d2f-4787-a071-6b313f948e68"
      },
      "outputs": [
        {
          "output_type": "stream",
          "name": "stdout",
          "text": [
            "Input number 0.5 is not a perfect cube\n"
          ]
        },
        {
          "output_type": "execute_result",
          "data": {
            "text/plain": [
              "False"
            ]
          },
          "metadata": {},
          "execution_count": 88
        }
      ],
      "source": [
        "# test 7\n",
        "find_perfect_cube_root(0.5)"
      ]
    },
    {
      "cell_type": "code",
      "execution_count": null,
      "metadata": {
        "colab": {
          "base_uri": "https://localhost:8080/"
        },
        "id": "YfeJWhFf6Jc-",
        "outputId": "12fa07ba-4fb0-4849-c7b4-2d491e91480e"
      },
      "outputs": [
        {
          "output_type": "stream",
          "name": "stdout",
          "text": [
            "Input number -0.5 is not a perfect cube\n"
          ]
        },
        {
          "output_type": "execute_result",
          "data": {
            "text/plain": [
              "False"
            ]
          },
          "metadata": {},
          "execution_count": 104
        }
      ],
      "source": [
        "# test 8\n",
        "find_perfect_cube_root(-0.5)"
      ]
    },
    {
      "cell_type": "code",
      "execution_count": null,
      "metadata": {
        "colab": {
          "base_uri": "https://localhost:8080/"
        },
        "id": "V8oTrhNxJwFt",
        "outputId": "bff73eca-6145-4ee1-c628-ee70ba699bf3"
      },
      "outputs": [
        {
          "output_type": "stream",
          "name": "stdout",
          "text": [
            "Found root cube as 10 for perfect cube 1000 after 8\n"
          ]
        },
        {
          "output_type": "execute_result",
          "data": {
            "text/plain": [
              "True"
            ]
          },
          "metadata": {},
          "execution_count": 158
        }
      ],
      "source": [
        "# test 9\n",
        "find_perfect_cube_root(1000)"
      ]
    },
    {
      "cell_type": "code",
      "execution_count": 4,
      "metadata": {
        "colab": {
          "base_uri": "https://localhost:8080/"
        },
        "id": "B73AVy7SKAe7",
        "outputId": "3f5a6829-8e8a-40a6-e855-f039a4d40961"
      },
      "outputs": [
        {
          "output_type": "stream",
          "name": "stdout",
          "text": [
            "Found root cube as -10 for perfect cube -1000 after 8\n"
          ]
        },
        {
          "output_type": "execute_result",
          "data": {
            "text/plain": [
              "True"
            ]
          },
          "metadata": {},
          "execution_count": 4
        }
      ],
      "source": [
        "# test 10\n",
        "find_perfect_cube_root(-1000)"
      ]
    },
    {
      "cell_type": "markdown",
      "metadata": {
        "id": "e6bOZKCV5982"
      },
      "source": [
        "# Approximate cube root\n",
        "Switching from positive to negative is easy (just work for positive and switch the sign if the input is negative).\n",
        "\n",
        "So, we can now focus on positive input.\n",
        "\n",
        "* Now, for the input in the range of [0, 1], start guessing from the input value itself up to 1.\n",
        "\n",
        "* For the input that is > 1, then start guessing from 1 up to cube."
      ]
    },
    {
      "cell_type": "code",
      "execution_count": 63,
      "metadata": {
        "id": "HouBK6Nb49Yc"
      },
      "outputs": [],
      "source": [
        "def approximate_cube_root(x, epsilon):\n",
        "  cube = abs(x)\n",
        "  # for cube > 1\n",
        "  if cube > 1:\n",
        "    low = 1\n",
        "    high = cube\n",
        "  # for cube <= 1\n",
        "  else:\n",
        "    low = cube\n",
        "    high = 1\n",
        "  guess = (low + high)/2 # do not convert to int\n",
        "  guesses = 1\n",
        "  while abs(guess**3 - cube) > epsilon and low <= high:\n",
        "    if guess**3 < cube:\n",
        "      low = guess\n",
        "    else:\n",
        "        high = guess\n",
        "    guess = (low + high)/2\n",
        "    guesses+=1\n",
        "  if x < 0:\n",
        "    guess = -guess\n",
        "  if abs(guess**3 - x) > epsilon:\n",
        "    print(\"Couldn't approximate with this precision, please increase epsilon\")\n",
        "    return False\n",
        "  else:\n",
        "    print(f\"Found root cube as {guess} for {x} after {guesses} guesses\")\n",
        "    return True"
      ]
    },
    {
      "cell_type": "markdown",
      "metadata": {
        "id": "HoPCom_FOM1N"
      },
      "source": [
        "# Test cases\n",
        "Each of the following test cases is worth 3 points. Note: Passing test cases do not guarantee correctness (e.g., students may just fix the output). Therefore, the TA has the right to refuse to give marks if the implementation in the code chunk above is incorrect."
      ]
    },
    {
      "cell_type": "markdown",
      "source": [
        "# test 1\n",
        "approximate_cube_root(8, 0.01)"
      ],
      "metadata": {
        "id": "Xy7pN-rzIhRS"
      }
    },
    {
      "cell_type": "code",
      "execution_count": 54,
      "metadata": {
        "colab": {
          "base_uri": "https://localhost:8080/"
        },
        "id": "AireRkIsIsVy",
        "outputId": "c076d320-d642-480a-8293-916fea5dcdd5"
      },
      "outputs": [
        {
          "output_type": "stream",
          "name": "stdout",
          "text": [
            "Found root cube as -1.999755859375 for -8 after 12 guesses\n"
          ]
        },
        {
          "output_type": "execute_result",
          "data": {
            "text/plain": [
              "True"
            ]
          },
          "metadata": {},
          "execution_count": 54
        }
      ],
      "source": [
        "# test 2\n",
        "approximate_cube_root(-8, 0.01)"
      ]
    },
    {
      "cell_type": "code",
      "execution_count": 55,
      "metadata": {
        "colab": {
          "base_uri": "https://localhost:8080/"
        },
        "id": "dZR_wVezIwpp",
        "outputId": "ba06b781-b8b6-4590-a3ff-bf3f0b3c243d"
      },
      "outputs": [
        {
          "output_type": "stream",
          "name": "stdout",
          "text": [
            "Found root cube as 2.080078125 for 9 after 12 guesses\n"
          ]
        },
        {
          "output_type": "execute_result",
          "data": {
            "text/plain": [
              "True"
            ]
          },
          "metadata": {},
          "execution_count": 55
        }
      ],
      "source": [
        "# test 3\n",
        "approximate_cube_root(9, 0.01)"
      ]
    },
    {
      "cell_type": "code",
      "execution_count": 56,
      "metadata": {
        "id": "aW7Fy7laIzV1",
        "colab": {
          "base_uri": "https://localhost:8080/"
        },
        "outputId": "a69871d0-ce05-44bf-8205-21844270c526"
      },
      "outputs": [
        {
          "output_type": "stream",
          "name": "stdout",
          "text": [
            "Found root cube as -2.080078125 for -9 after 12 guesses\n"
          ]
        },
        {
          "output_type": "execute_result",
          "data": {
            "text/plain": [
              "True"
            ]
          },
          "metadata": {},
          "execution_count": 56
        }
      ],
      "source": [
        "# test 4\n",
        "approximate_cube_root(-9, 0.01)"
      ]
    },
    {
      "cell_type": "code",
      "execution_count": 57,
      "metadata": {
        "colab": {
          "base_uri": "https://localhost:8080/"
        },
        "id": "quc9Qx6YKSYf",
        "outputId": "e5289896-dc66-401b-aaae-761f261f96ea"
      },
      "outputs": [
        {
          "output_type": "stream",
          "name": "stdout",
          "text": [
            "Found root cube as 1.0 for 1 after 1 guesses\n"
          ]
        },
        {
          "output_type": "execute_result",
          "data": {
            "text/plain": [
              "True"
            ]
          },
          "metadata": {},
          "execution_count": 57
        }
      ],
      "source": [
        "# test 5\n",
        "approximate_cube_root(1, 0.01)"
      ]
    },
    {
      "cell_type": "code",
      "execution_count": 58,
      "metadata": {
        "colab": {
          "base_uri": "https://localhost:8080/"
        },
        "id": "ZvrD9EzSJPuH",
        "outputId": "52943a5f-e829-4856-f558-9bf6712d63ba"
      },
      "outputs": [
        {
          "output_type": "stream",
          "name": "stdout",
          "text": [
            "Found root cube as -1.0 for -1 after 1 guesses\n"
          ]
        },
        {
          "output_type": "execute_result",
          "data": {
            "text/plain": [
              "True"
            ]
          },
          "metadata": {},
          "execution_count": 58
        }
      ],
      "source": [
        "# test 6\n",
        "approximate_cube_root(-1, 0.01)"
      ]
    },
    {
      "cell_type": "code",
      "execution_count": 59,
      "metadata": {
        "colab": {
          "base_uri": "https://localhost:8080/"
        },
        "id": "B7fWiMAlJSaS",
        "outputId": "5908bff9-4713-4076-d3fc-e09cb7de0b83"
      },
      "outputs": [
        {
          "output_type": "stream",
          "name": "stdout",
          "text": [
            "Found root cube as 0.575 for 0.2 after 5 guesses\n"
          ]
        },
        {
          "output_type": "execute_result",
          "data": {
            "text/plain": [
              "True"
            ]
          },
          "metadata": {},
          "execution_count": 59
        }
      ],
      "source": [
        "# test 7\n",
        "approximate_cube_root(0.2, 0.01)"
      ]
    },
    {
      "cell_type": "code",
      "execution_count": 66,
      "metadata": {
        "colab": {
          "base_uri": "https://localhost:8080/"
        },
        "id": "L9DMSSQ9JhMW",
        "outputId": "47363de0-7c4d-4933-ef37-4c2ef344b155"
      },
      "outputs": [
        {
          "output_type": "stream",
          "name": "stdout",
          "text": [
            "Found root cube as -0.575 for -0.2 after 5 guesses\n"
          ]
        },
        {
          "output_type": "execute_result",
          "data": {
            "text/plain": [
              "True"
            ]
          },
          "metadata": {},
          "execution_count": 66
        }
      ],
      "source": [
        "# test 8\n",
        "approximate_cube_root(-0.2, 0.01)"
      ]
    },
    {
      "cell_type": "code",
      "execution_count": 61,
      "metadata": {
        "colab": {
          "base_uri": "https://localhost:8080/"
        },
        "id": "Y2jo7npyJkx4",
        "outputId": "0e71003b-8e98-4c1f-9e19-4ca5f55bce41"
      },
      "outputs": [
        {
          "output_type": "stream",
          "name": "stdout",
          "text": [
            "Found root cube as 0.9624999999999999 for 0.9 after 3 guesses\n"
          ]
        },
        {
          "output_type": "execute_result",
          "data": {
            "text/plain": [
              "True"
            ]
          },
          "metadata": {},
          "execution_count": 61
        }
      ],
      "source": [
        "# test 9\n",
        "approximate_cube_root(0.9, 0.01)"
      ]
    },
    {
      "cell_type": "code",
      "execution_count": 62,
      "metadata": {
        "colab": {
          "base_uri": "https://localhost:8080/"
        },
        "id": "K8dIYyJ0JpHA",
        "outputId": "8d63dfe0-cfc7-4c56-a156-eda1eda3cc3c"
      },
      "outputs": [
        {
          "output_type": "stream",
          "name": "stdout",
          "text": [
            "Found root cube as -0.9624999999999999 for -0.9 after 3 guesses\n"
          ]
        },
        {
          "output_type": "execute_result",
          "data": {
            "text/plain": [
              "True"
            ]
          },
          "metadata": {},
          "execution_count": 62
        }
      ],
      "source": [
        "# test 10\n",
        "approximate_cube_root(-0.9, 0.01)"
      ]
    },
    {
      "cell_type": "markdown",
      "metadata": {
        "id": "MV-X2PwWkJXf"
      },
      "source": [
        "# User interaction"
      ]
    },
    {
      "cell_type": "code",
      "execution_count": 64,
      "metadata": {
        "id": "ZEfoPLVokLDf"
      },
      "outputs": [],
      "source": [
        "def user_interaction():\n",
        "  # ask user to input a number and convert it to float.\n",
        "  # the message is \"Please input a number: \"\n",
        "  userin = input(\"Please input a number\")\n",
        "\n",
        "  try:\n",
        "    x= float(userin)\n",
        "    print(\"number inputted is\" ,x)\n",
        "  except ValueError:\n",
        "    print(\"input invalid\")\n",
        "  # try perfect cube root first\n",
        "  found = find_perfect_cube_root(x)\n",
        "  if not found:\n",
        "    # ask user to input option\n",
        "    # the message is \"The input number is not a perfect cube, would you like to approximate its cube root (yes/no): \"\n",
        "    cont = input(\"The input number is not a perfect cube, would you like to approximate its cube root (yes/no):\")\n",
        "    # if wrong it put keep asking again with a new message as \"Please input as yes/no: \"\n",
        "    # CODE_HERE\n",
        "\n",
        "    if cont == \"yes\":\n",
        "      # Ask to input tolerance and convert to float\n",
        "      epsin = float(input(\"How many decimal places of tolerance would you like?\"))\n",
        "      epsilon = 10 ** (-epsin)\n",
        "      found = approximate_cube_root(x, epsilon)"
      ]
    },
    {
      "cell_type": "markdown",
      "metadata": {
        "id": "Zy2t2UcGLBgI"
      },
      "source": [
        "# User interaction test cases\n",
        "Please perform the following test cases and validate the correctness of your program. In the following test cases means actions for <code>[i1, i2, i2]</code>, where:\n",
        "* i1: means the input number in the first prompt\n",
        "* i2: means the input option for yes/no to continue approximation.\n",
        "* i3: means the value for the tolerance (epsilon)\n",
        "* For each of these options, an underscore (_) means not applicable. Furthermore, if action is written as (a1, a2) and so on. It means the user inputs a1 and is wrong and asked to input again, then the user inputs a2.\n",
        "\n",
        "Each of the following test cases is worth 4 points (except the first one that is completed for you as an example). Note: Passing test cases do not guarantee correctness (e.g., students may just fix the output). Therefore, the TA has the right to refuse to give marks if the implementation in the code chunk above is incorrect.\n",
        "\n",
        "## Cases\n",
        "\n",
        "0. [10, (what?, yes), 0.01]\n",
        "1. [8, _, _]\n",
        "2. [-8, _, _]\n",
        "3. [9, (blah, no), _]\n",
        "4. [9, yes, 0.01]\n",
        "5. [-9, yes, 0.01]\n",
        "6. [1, _, _]\n",
        "7. [0.9, yes, 0.01]\n",
        "8. [-0.9, yes, 0.01]\n",
        "9. [0.5, yes, 0.001]\n",
        "10. [-0.5, yes, 0.001]\n",
        "\n",
        "## Example:\n",
        "Following is an example of executing with the first test case (case 0).\n"
      ]
    },
    {
      "cell_type": "code",
      "execution_count": 65,
      "metadata": {
        "colab": {
          "base_uri": "https://localhost:8080/"
        },
        "id": "-YHo1kvRH6d_",
        "outputId": "82e8b7c4-1864-46dd-a3d0-441ebbf3c2cf"
      },
      "outputs": [
        {
          "output_type": "stream",
          "name": "stdout",
          "text": [
            "Please input a number35\n",
            "number inputted is 35.0\n",
            "Input number 35.0 is not a perfect cube\n",
            "The input number is not a perfect cube, would you like to approximate its cube root (yes/no):yes\n",
            "How many decimal places of tolerance would you like?4\n",
            "Found root cube as 3.271066188812256 for 35.0 after 22 guesses\n"
          ]
        }
      ],
      "source": [
        "user_interaction()"
      ]
    },
    {
      "cell_type": "code",
      "execution_count": null,
      "metadata": {
        "id": "nO8WooKBNmiq"
      },
      "outputs": [],
      "source": []
    }
  ],
  "metadata": {
    "colab": {
      "provenance": [],
      "collapsed_sections": [
        "I7zqXfe2N2zQ"
      ]
    },
    "kernelspec": {
      "display_name": "Python 3",
      "name": "python3"
    },
    "language_info": {
      "name": "python"
    }
  },
  "nbformat": 4,
  "nbformat_minor": 0
}